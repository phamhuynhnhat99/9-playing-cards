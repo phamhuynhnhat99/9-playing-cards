{
 "cells": [
  {
   "cell_type": "code",
   "execution_count": 8,
   "id": "904100c7",
   "metadata": {
    "scrolled": false
   },
   "outputs": [
    {
     "name": "stdout",
     "output_type": "stream",
     "text": [
      "Cloning into 'Cards-machine-learning'...\n",
      "remote: Enumerating objects: 108, done.\u001b[K\n",
      "remote: Total 108 (delta 0), reused 0 (delta 0), pack-reused 108\u001b[K\n",
      "Receiving objects: 100% (108/108), 12.06 MiB | 13.66 MiB/s, done.\n",
      "Resolving deltas: 100% (38/38), done.\n"
     ]
    }
   ],
   "source": [
    "!git clone https://github.com/0xCorolaire/Cards-machine-learning.git"
   ]
  },
  {
   "cell_type": "code",
   "execution_count": null,
   "id": "ff23b557",
   "metadata": {},
   "outputs": [],
   "source": []
  }
 ],
 "metadata": {
  "kernelspec": {
   "display_name": "Python 3 (ipykernel)",
   "language": "python",
   "name": "python3"
  },
  "language_info": {
   "codemirror_mode": {
    "name": "ipython",
    "version": 3
   },
   "file_extension": ".py",
   "mimetype": "text/x-python",
   "name": "python",
   "nbconvert_exporter": "python",
   "pygments_lexer": "ipython3",
   "version": "3.8.16"
  }
 },
 "nbformat": 4,
 "nbformat_minor": 5
}
